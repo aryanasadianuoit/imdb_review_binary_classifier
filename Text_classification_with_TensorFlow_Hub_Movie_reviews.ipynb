{
  "nbformat": 4,
  "nbformat_minor": 0,
  "metadata": {
    "colab": {
      "name": "Text classification with TensorFlow Hub: Movie reviews.ipynb",
      "provenance": [],
      "authorship_tag": "ABX9TyNcEv72JE0LgkECUqYLzgz7",
      "include_colab_link": true
    },
    "kernelspec": {
      "name": "python3",
      "display_name": "Python 3"
    },
    "accelerator": "GPU"
  },
  "cells": [
    {
      "cell_type": "markdown",
      "metadata": {
        "id": "view-in-github",
        "colab_type": "text"
      },
      "source": [
        "<a href=\"https://colab.research.google.com/github/aryanasadianuoit/imdb_review_binary_classifier/blob/master/Text_classification_with_TensorFlow_Hub_Movie_reviews.ipynb\" target=\"_parent\"><img src=\"https://colab.research.google.com/assets/colab-badge.svg\" alt=\"Open In Colab\"/></a>"
      ]
    },
    {
      "cell_type": "code",
      "metadata": {
        "id": "8kYOcg3ggDX7",
        "colab_type": "code",
        "colab": {
          "base_uri": "https://localhost:8080/",
          "height": 3910
        },
        "outputId": "0796d9e2-f269-496a-f17f-0604aee06166"
      },
      "source": [
        "from __future__ import absolute_import , division, print_function, unicode_literals\n",
        "\n",
        "import numpy as np\n",
        "import tensorflow as tf\n",
        "\n",
        "print(tf.__version__)\n",
        "!pip uninstall tensorflow\n"
      ],
      "execution_count": 5,
      "outputs": [
        {
          "output_type": "stream",
          "text": [
            "2.0.0\n",
            "Uninstalling tensorflow-1.15.0:\n",
            "  Would remove:\n",
            "    /usr/local/bin/estimator_ckpt_converter\n",
            "    /usr/local/bin/freeze_graph\n",
            "    /usr/local/bin/saved_model_cli\n",
            "    /usr/local/bin/tensorboard\n",
            "    /usr/local/bin/tf_upgrade_v2\n",
            "    /usr/local/bin/tflite_convert\n",
            "    /usr/local/bin/toco\n",
            "    /usr/local/bin/toco_from_protos\n",
            "    /usr/local/lib/python3.6/dist-packages/tensorflow-1.15.0.dist-info/*\n",
            "    /usr/local/lib/python3.6/dist-packages/tensorflow/*\n",
            "    /usr/local/lib/python3.6/dist-packages/tensorflow_core/*\n",
            "  Would not remove (might be manually added):\n",
            "    /usr/local/lib/python3.6/dist-packages/tensorflow_core/_api/v2/__init__.py\n",
            "    /usr/local/lib/python3.6/dist-packages/tensorflow_core/_api/v2/audio/__init__.py\n",
            "    /usr/local/lib/python3.6/dist-packages/tensorflow_core/_api/v2/autograph/__init__.py\n",
            "    /usr/local/lib/python3.6/dist-packages/tensorflow_core/_api/v2/autograph/experimental/__init__.py\n",
            "    /usr/local/lib/python3.6/dist-packages/tensorflow_core/_api/v2/bitwise/__init__.py\n",
            "    /usr/local/lib/python3.6/dist-packages/tensorflow_core/_api/v2/compat/__init__.py\n",
            "    /usr/local/lib/python3.6/dist-packages/tensorflow_core/_api/v2/compat/v1/__init__.py\n",
            "    /usr/local/lib/python3.6/dist-packages/tensorflow_core/_api/v2/compat/v1/app/__init__.py\n",
            "    /usr/local/lib/python3.6/dist-packages/tensorflow_core/_api/v2/compat/v1/audio/__init__.py\n",
            "    /usr/local/lib/python3.6/dist-packages/tensorflow_core/_api/v2/compat/v1/autograph/__init__.py\n",
            "    /usr/local/lib/python3.6/dist-packages/tensorflow_core/_api/v2/compat/v1/autograph/experimental/__init__.py\n",
            "    /usr/local/lib/python3.6/dist-packages/tensorflow_core/_api/v2/compat/v1/bitwise/__init__.py\n",
            "    /usr/local/lib/python3.6/dist-packages/tensorflow_core/_api/v2/compat/v1/compat/__init__.py\n",
            "    /usr/local/lib/python3.6/dist-packages/tensorflow_core/_api/v2/compat/v1/config/__init__.py\n",
            "    /usr/local/lib/python3.6/dist-packages/tensorflow_core/_api/v2/compat/v1/config/experimental/__init__.py\n",
            "    /usr/local/lib/python3.6/dist-packages/tensorflow_core/_api/v2/compat/v1/config/optimizer/__init__.py\n",
            "    /usr/local/lib/python3.6/dist-packages/tensorflow_core/_api/v2/compat/v1/config/threading/__init__.py\n",
            "    /usr/local/lib/python3.6/dist-packages/tensorflow_core/_api/v2/compat/v1/data/__init__.py\n",
            "    /usr/local/lib/python3.6/dist-packages/tensorflow_core/_api/v2/compat/v1/data/experimental/__init__.py\n",
            "    /usr/local/lib/python3.6/dist-packages/tensorflow_core/_api/v2/compat/v1/debugging/__init__.py\n",
            "    /usr/local/lib/python3.6/dist-packages/tensorflow_core/_api/v2/compat/v1/distribute/__init__.py\n",
            "    /usr/local/lib/python3.6/dist-packages/tensorflow_core/_api/v2/compat/v1/distribute/cluster_resolver/__init__.py\n",
            "    /usr/local/lib/python3.6/dist-packages/tensorflow_core/_api/v2/compat/v1/distribute/experimental/__init__.py\n",
            "    /usr/local/lib/python3.6/dist-packages/tensorflow_core/_api/v2/compat/v1/distributions/__init__.py\n",
            "    /usr/local/lib/python3.6/dist-packages/tensorflow_core/_api/v2/compat/v1/dtypes/__init__.py\n",
            "    /usr/local/lib/python3.6/dist-packages/tensorflow_core/_api/v2/compat/v1/errors/__init__.py\n",
            "    /usr/local/lib/python3.6/dist-packages/tensorflow_core/_api/v2/compat/v1/experimental/__init__.py\n",
            "    /usr/local/lib/python3.6/dist-packages/tensorflow_core/_api/v2/compat/v1/feature_column/__init__.py\n",
            "    /usr/local/lib/python3.6/dist-packages/tensorflow_core/_api/v2/compat/v1/gfile/__init__.py\n",
            "    /usr/local/lib/python3.6/dist-packages/tensorflow_core/_api/v2/compat/v1/graph_util/__init__.py\n",
            "    /usr/local/lib/python3.6/dist-packages/tensorflow_core/_api/v2/compat/v1/image/__init__.py\n",
            "    /usr/local/lib/python3.6/dist-packages/tensorflow_core/_api/v2/compat/v1/initializers/__init__.py\n",
            "    /usr/local/lib/python3.6/dist-packages/tensorflow_core/_api/v2/compat/v1/io/__init__.py\n",
            "    /usr/local/lib/python3.6/dist-packages/tensorflow_core/_api/v2/compat/v1/io/gfile/__init__.py\n",
            "    /usr/local/lib/python3.6/dist-packages/tensorflow_core/_api/v2/compat/v1/layers/__init__.py\n",
            "    /usr/local/lib/python3.6/dist-packages/tensorflow_core/_api/v2/compat/v1/layers/experimental/__init__.py\n",
            "    /usr/local/lib/python3.6/dist-packages/tensorflow_core/_api/v2/compat/v1/linalg/__init__.py\n",
            "    /usr/local/lib/python3.6/dist-packages/tensorflow_core/_api/v2/compat/v1/lite/__init__.py\n",
            "    /usr/local/lib/python3.6/dist-packages/tensorflow_core/_api/v2/compat/v1/lite/constants/__init__.py\n",
            "    /usr/local/lib/python3.6/dist-packages/tensorflow_core/_api/v2/compat/v1/lite/experimental/__init__.py\n",
            "    /usr/local/lib/python3.6/dist-packages/tensorflow_core/_api/v2/compat/v1/lite/experimental/microfrontend/__init__.py\n",
            "    /usr/local/lib/python3.6/dist-packages/tensorflow_core/_api/v2/compat/v1/lite/experimental/microfrontend/python/__init__.py\n",
            "    /usr/local/lib/python3.6/dist-packages/tensorflow_core/_api/v2/compat/v1/lite/experimental/microfrontend/python/ops/__init__.py\n",
            "    /usr/local/lib/python3.6/dist-packages/tensorflow_core/_api/v2/compat/v1/lite/experimental/nn/__init__.py\n",
            "    /usr/local/lib/python3.6/dist-packages/tensorflow_core/_api/v2/compat/v1/logging/__init__.py\n",
            "    /usr/local/lib/python3.6/dist-packages/tensorflow_core/_api/v2/compat/v1/lookup/__init__.py\n",
            "    /usr/local/lib/python3.6/dist-packages/tensorflow_core/_api/v2/compat/v1/lookup/experimental/__init__.py\n",
            "    /usr/local/lib/python3.6/dist-packages/tensorflow_core/_api/v2/compat/v1/losses/__init__.py\n",
            "    /usr/local/lib/python3.6/dist-packages/tensorflow_core/_api/v2/compat/v1/manip/__init__.py\n",
            "    /usr/local/lib/python3.6/dist-packages/tensorflow_core/_api/v2/compat/v1/math/__init__.py\n",
            "    /usr/local/lib/python3.6/dist-packages/tensorflow_core/_api/v2/compat/v1/metrics/__init__.py\n",
            "    /usr/local/lib/python3.6/dist-packages/tensorflow_core/_api/v2/compat/v1/nest/__init__.py\n",
            "    /usr/local/lib/python3.6/dist-packages/tensorflow_core/_api/v2/compat/v1/nn/__init__.py\n",
            "    /usr/local/lib/python3.6/dist-packages/tensorflow_core/_api/v2/compat/v1/nn/rnn_cell/__init__.py\n",
            "    /usr/local/lib/python3.6/dist-packages/tensorflow_core/_api/v2/compat/v1/profiler/__init__.py\n",
            "    /usr/local/lib/python3.6/dist-packages/tensorflow_core/_api/v2/compat/v1/python_io/__init__.py\n",
            "    /usr/local/lib/python3.6/dist-packages/tensorflow_core/_api/v2/compat/v1/quantization/__init__.py\n",
            "    /usr/local/lib/python3.6/dist-packages/tensorflow_core/_api/v2/compat/v1/queue/__init__.py\n",
            "    /usr/local/lib/python3.6/dist-packages/tensorflow_core/_api/v2/compat/v1/ragged/__init__.py\n",
            "    /usr/local/lib/python3.6/dist-packages/tensorflow_core/_api/v2/compat/v1/random/__init__.py\n",
            "    /usr/local/lib/python3.6/dist-packages/tensorflow_core/_api/v2/compat/v1/random/experimental/__init__.py\n",
            "    /usr/local/lib/python3.6/dist-packages/tensorflow_core/_api/v2/compat/v1/raw_ops/__init__.py\n",
            "    /usr/local/lib/python3.6/dist-packages/tensorflow_core/_api/v2/compat/v1/resource_loader/__init__.py\n",
            "    /usr/local/lib/python3.6/dist-packages/tensorflow_core/_api/v2/compat/v1/saved_model/__init__.py\n",
            "    /usr/local/lib/python3.6/dist-packages/tensorflow_core/_api/v2/compat/v1/saved_model/builder/__init__.py\n",
            "    /usr/local/lib/python3.6/dist-packages/tensorflow_core/_api/v2/compat/v1/saved_model/constants/__init__.py\n",
            "    /usr/local/lib/python3.6/dist-packages/tensorflow_core/_api/v2/compat/v1/saved_model/experimental/__init__.py\n",
            "    /usr/local/lib/python3.6/dist-packages/tensorflow_core/_api/v2/compat/v1/saved_model/loader/__init__.py\n",
            "    /usr/local/lib/python3.6/dist-packages/tensorflow_core/_api/v2/compat/v1/saved_model/main_op/__init__.py\n",
            "    /usr/local/lib/python3.6/dist-packages/tensorflow_core/_api/v2/compat/v1/saved_model/signature_constants/__init__.py\n",
            "    /usr/local/lib/python3.6/dist-packages/tensorflow_core/_api/v2/compat/v1/saved_model/signature_def_utils/__init__.py\n",
            "    /usr/local/lib/python3.6/dist-packages/tensorflow_core/_api/v2/compat/v1/saved_model/tag_constants/__init__.py\n",
            "    /usr/local/lib/python3.6/dist-packages/tensorflow_core/_api/v2/compat/v1/saved_model/utils/__init__.py\n",
            "    /usr/local/lib/python3.6/dist-packages/tensorflow_core/_api/v2/compat/v1/sets/__init__.py\n",
            "    /usr/local/lib/python3.6/dist-packages/tensorflow_core/_api/v2/compat/v1/signal/__init__.py\n",
            "    /usr/local/lib/python3.6/dist-packages/tensorflow_core/_api/v2/compat/v1/sparse/__init__.py\n",
            "    /usr/local/lib/python3.6/dist-packages/tensorflow_core/_api/v2/compat/v1/spectral/__init__.py\n",
            "    /usr/local/lib/python3.6/dist-packages/tensorflow_core/_api/v2/compat/v1/strings/__init__.py\n",
            "    /usr/local/lib/python3.6/dist-packages/tensorflow_core/_api/v2/compat/v1/summary/__init__.py\n",
            "    /usr/local/lib/python3.6/dist-packages/tensorflow_core/_api/v2/compat/v1/sysconfig/__init__.py\n",
            "    /usr/local/lib/python3.6/dist-packages/tensorflow_core/_api/v2/compat/v1/test/__init__.py\n",
            "    /usr/local/lib/python3.6/dist-packages/tensorflow_core/_api/v2/compat/v1/tpu/__init__.py\n",
            "    /usr/local/lib/python3.6/dist-packages/tensorflow_core/_api/v2/compat/v1/tpu/experimental/__init__.py\n",
            "    /usr/local/lib/python3.6/dist-packages/tensorflow_core/_api/v2/compat/v1/train/__init__.py\n",
            "    /usr/local/lib/python3.6/dist-packages/tensorflow_core/_api/v2/compat/v1/train/experimental/__init__.py\n",
            "    /usr/local/lib/python3.6/dist-packages/tensorflow_core/_api/v2/compat/v1/train/queue_runner/__init__.py\n",
            "    /usr/local/lib/python3.6/dist-packages/tensorflow_core/_api/v2/compat/v1/user_ops/__init__.py\n",
            "    /usr/local/lib/python3.6/dist-packages/tensorflow_core/_api/v2/compat/v1/version/__init__.py\n",
            "    /usr/local/lib/python3.6/dist-packages/tensorflow_core/_api/v2/compat/v1/xla/__init__.py\n",
            "    /usr/local/lib/python3.6/dist-packages/tensorflow_core/_api/v2/compat/v1/xla/experimental/__init__.py\n",
            "    /usr/local/lib/python3.6/dist-packages/tensorflow_core/_api/v2/compat/v2/__init__.py\n",
            "    /usr/local/lib/python3.6/dist-packages/tensorflow_core/_api/v2/compat/v2/audio/__init__.py\n",
            "    /usr/local/lib/python3.6/dist-packages/tensorflow_core/_api/v2/compat/v2/autograph/__init__.py\n",
            "    /usr/local/lib/python3.6/dist-packages/tensorflow_core/_api/v2/compat/v2/autograph/experimental/__init__.py\n",
            "    /usr/local/lib/python3.6/dist-packages/tensorflow_core/_api/v2/compat/v2/bitwise/__init__.py\n",
            "    /usr/local/lib/python3.6/dist-packages/tensorflow_core/_api/v2/compat/v2/compat/__init__.py\n",
            "    /usr/local/lib/python3.6/dist-packages/tensorflow_core/_api/v2/compat/v2/config/__init__.py\n",
            "    /usr/local/lib/python3.6/dist-packages/tensorflow_core/_api/v2/compat/v2/config/experimental/__init__.py\n",
            "    /usr/local/lib/python3.6/dist-packages/tensorflow_core/_api/v2/compat/v2/config/optimizer/__init__.py\n",
            "    /usr/local/lib/python3.6/dist-packages/tensorflow_core/_api/v2/compat/v2/config/threading/__init__.py\n",
            "    /usr/local/lib/python3.6/dist-packages/tensorflow_core/_api/v2/compat/v2/data/__init__.py\n",
            "    /usr/local/lib/python3.6/dist-packages/tensorflow_core/_api/v2/compat/v2/data/experimental/__init__.py\n",
            "    /usr/local/lib/python3.6/dist-packages/tensorflow_core/_api/v2/compat/v2/debugging/__init__.py\n",
            "    /usr/local/lib/python3.6/dist-packages/tensorflow_core/_api/v2/compat/v2/distribute/__init__.py\n",
            "    /usr/local/lib/python3.6/dist-packages/tensorflow_core/_api/v2/compat/v2/distribute/cluster_resolver/__init__.py\n",
            "    /usr/local/lib/python3.6/dist-packages/tensorflow_core/_api/v2/compat/v2/distribute/experimental/__init__.py\n",
            "    /usr/local/lib/python3.6/dist-packages/tensorflow_core/_api/v2/compat/v2/dtypes/__init__.py\n",
            "    /usr/local/lib/python3.6/dist-packages/tensorflow_core/_api/v2/compat/v2/errors/__init__.py\n",
            "    /usr/local/lib/python3.6/dist-packages/tensorflow_core/_api/v2/compat/v2/experimental/__init__.py\n",
            "    /usr/local/lib/python3.6/dist-packages/tensorflow_core/_api/v2/compat/v2/feature_column/__init__.py\n",
            "    /usr/local/lib/python3.6/dist-packages/tensorflow_core/_api/v2/compat/v2/graph_util/__init__.py\n",
            "    /usr/local/lib/python3.6/dist-packages/tensorflow_core/_api/v2/compat/v2/image/__init__.py\n",
            "    /usr/local/lib/python3.6/dist-packages/tensorflow_core/_api/v2/compat/v2/io/__init__.py\n",
            "    /usr/local/lib/python3.6/dist-packages/tensorflow_core/_api/v2/compat/v2/io/gfile/__init__.py\n",
            "    /usr/local/lib/python3.6/dist-packages/tensorflow_core/_api/v2/compat/v2/linalg/__init__.py\n",
            "    /usr/local/lib/python3.6/dist-packages/tensorflow_core/_api/v2/compat/v2/lite/__init__.py\n",
            "    /usr/local/lib/python3.6/dist-packages/tensorflow_core/_api/v2/compat/v2/lite/experimental/__init__.py\n",
            "    /usr/local/lib/python3.6/dist-packages/tensorflow_core/_api/v2/compat/v2/lite/experimental/microfrontend/__init__.py\n",
            "    /usr/local/lib/python3.6/dist-packages/tensorflow_core/_api/v2/compat/v2/lite/experimental/microfrontend/python/__init__.py\n",
            "    /usr/local/lib/python3.6/dist-packages/tensorflow_core/_api/v2/compat/v2/lite/experimental/microfrontend/python/ops/__init__.py\n",
            "    /usr/local/lib/python3.6/dist-packages/tensorflow_core/_api/v2/compat/v2/lookup/__init__.py\n",
            "    /usr/local/lib/python3.6/dist-packages/tensorflow_core/_api/v2/compat/v2/lookup/experimental/__init__.py\n",
            "    /usr/local/lib/python3.6/dist-packages/tensorflow_core/_api/v2/compat/v2/math/__init__.py\n",
            "    /usr/local/lib/python3.6/dist-packages/tensorflow_core/_api/v2/compat/v2/nest/__init__.py\n",
            "    /usr/local/lib/python3.6/dist-packages/tensorflow_core/_api/v2/compat/v2/nn/__init__.py\n",
            "    /usr/local/lib/python3.6/dist-packages/tensorflow_core/_api/v2/compat/v2/quantization/__init__.py\n",
            "    /usr/local/lib/python3.6/dist-packages/tensorflow_core/_api/v2/compat/v2/queue/__init__.py\n",
            "    /usr/local/lib/python3.6/dist-packages/tensorflow_core/_api/v2/compat/v2/ragged/__init__.py\n",
            "    /usr/local/lib/python3.6/dist-packages/tensorflow_core/_api/v2/compat/v2/random/__init__.py\n",
            "    /usr/local/lib/python3.6/dist-packages/tensorflow_core/_api/v2/compat/v2/random/experimental/__init__.py\n",
            "    /usr/local/lib/python3.6/dist-packages/tensorflow_core/_api/v2/compat/v2/raw_ops/__init__.py\n",
            "    /usr/local/lib/python3.6/dist-packages/tensorflow_core/_api/v2/compat/v2/saved_model/__init__.py\n",
            "    /usr/local/lib/python3.6/dist-packages/tensorflow_core/_api/v2/compat/v2/sets/__init__.py\n",
            "    /usr/local/lib/python3.6/dist-packages/tensorflow_core/_api/v2/compat/v2/signal/__init__.py\n",
            "    /usr/local/lib/python3.6/dist-packages/tensorflow_core/_api/v2/compat/v2/sparse/__init__.py\n",
            "    /usr/local/lib/python3.6/dist-packages/tensorflow_core/_api/v2/compat/v2/strings/__init__.py\n",
            "    /usr/local/lib/python3.6/dist-packages/tensorflow_core/_api/v2/compat/v2/summary/__init__.py\n",
            "    /usr/local/lib/python3.6/dist-packages/tensorflow_core/_api/v2/compat/v2/summary/experimental/__init__.py\n",
            "    /usr/local/lib/python3.6/dist-packages/tensorflow_core/_api/v2/compat/v2/sysconfig/__init__.py\n",
            "    /usr/local/lib/python3.6/dist-packages/tensorflow_core/_api/v2/compat/v2/test/__init__.py\n",
            "    /usr/local/lib/python3.6/dist-packages/tensorflow_core/_api/v2/compat/v2/tpu/__init__.py\n",
            "    /usr/local/lib/python3.6/dist-packages/tensorflow_core/_api/v2/compat/v2/tpu/experimental/__init__.py\n",
            "    /usr/local/lib/python3.6/dist-packages/tensorflow_core/_api/v2/compat/v2/train/__init__.py\n",
            "    /usr/local/lib/python3.6/dist-packages/tensorflow_core/_api/v2/compat/v2/train/experimental/__init__.py\n",
            "    /usr/local/lib/python3.6/dist-packages/tensorflow_core/_api/v2/compat/v2/version/__init__.py\n",
            "    /usr/local/lib/python3.6/dist-packages/tensorflow_core/_api/v2/compat/v2/xla/__init__.py\n",
            "    /usr/local/lib/python3.6/dist-packages/tensorflow_core/_api/v2/compat/v2/xla/experimental/__init__.py\n",
            "    /usr/local/lib/python3.6/dist-packages/tensorflow_core/_api/v2/config/__init__.py\n",
            "    /usr/local/lib/python3.6/dist-packages/tensorflow_core/_api/v2/config/experimental/__init__.py\n",
            "    /usr/local/lib/python3.6/dist-packages/tensorflow_core/_api/v2/config/optimizer/__init__.py\n",
            "    /usr/local/lib/python3.6/dist-packages/tensorflow_core/_api/v2/config/threading/__init__.py\n",
            "    /usr/local/lib/python3.6/dist-packages/tensorflow_core/_api/v2/data/__init__.py\n",
            "    /usr/local/lib/python3.6/dist-packages/tensorflow_core/_api/v2/data/experimental/__init__.py\n",
            "    /usr/local/lib/python3.6/dist-packages/tensorflow_core/_api/v2/debugging/__init__.py\n",
            "    /usr/local/lib/python3.6/dist-packages/tensorflow_core/_api/v2/distribute/__init__.py\n",
            "    /usr/local/lib/python3.6/dist-packages/tensorflow_core/_api/v2/distribute/cluster_resolver/__init__.py\n",
            "    /usr/local/lib/python3.6/dist-packages/tensorflow_core/_api/v2/distribute/experimental/__init__.py\n",
            "    /usr/local/lib/python3.6/dist-packages/tensorflow_core/_api/v2/dtypes/__init__.py\n",
            "    /usr/local/lib/python3.6/dist-packages/tensorflow_core/_api/v2/errors/__init__.py\n",
            "    /usr/local/lib/python3.6/dist-packages/tensorflow_core/_api/v2/experimental/__init__.py\n",
            "    /usr/local/lib/python3.6/dist-packages/tensorflow_core/_api/v2/feature_column/__init__.py\n",
            "    /usr/local/lib/python3.6/dist-packages/tensorflow_core/_api/v2/graph_util/__init__.py\n",
            "    /usr/local/lib/python3.6/dist-packages/tensorflow_core/_api/v2/image/__init__.py\n",
            "    /usr/local/lib/python3.6/dist-packages/tensorflow_core/_api/v2/io/__init__.py\n",
            "    /usr/local/lib/python3.6/dist-packages/tensorflow_core/_api/v2/io/gfile/__init__.py\n",
            "    /usr/local/lib/python3.6/dist-packages/tensorflow_core/_api/v2/linalg/__init__.py\n",
            "    /usr/local/lib/python3.6/dist-packages/tensorflow_core/_api/v2/lite/__init__.py\n",
            "    /usr/local/lib/python3.6/dist-packages/tensorflow_core/_api/v2/lite/experimental/__init__.py\n",
            "    /usr/local/lib/python3.6/dist-packages/tensorflow_core/_api/v2/lite/experimental/microfrontend/__init__.py\n",
            "    /usr/local/lib/python3.6/dist-packages/tensorflow_core/_api/v2/lite/experimental/microfrontend/python/__init__.py\n",
            "    /usr/local/lib/python3.6/dist-packages/tensorflow_core/_api/v2/lite/experimental/microfrontend/python/ops/__init__.py\n",
            "    /usr/local/lib/python3.6/dist-packages/tensorflow_core/_api/v2/lookup/__init__.py\n",
            "    /usr/local/lib/python3.6/dist-packages/tensorflow_core/_api/v2/lookup/experimental/__init__.py\n",
            "    /usr/local/lib/python3.6/dist-packages/tensorflow_core/_api/v2/math/__init__.py\n",
            "    /usr/local/lib/python3.6/dist-packages/tensorflow_core/_api/v2/nest/__init__.py\n",
            "    /usr/local/lib/python3.6/dist-packages/tensorflow_core/_api/v2/nn/__init__.py\n",
            "    /usr/local/lib/python3.6/dist-packages/tensorflow_core/_api/v2/quantization/__init__.py\n",
            "    /usr/local/lib/python3.6/dist-packages/tensorflow_core/_api/v2/queue/__init__.py\n",
            "    /usr/local/lib/python3.6/dist-packages/tensorflow_core/_api/v2/ragged/__init__.py\n",
            "    /usr/local/lib/python3.6/dist-packages/tensorflow_core/_api/v2/random/__init__.py\n",
            "    /usr/local/lib/python3.6/dist-packages/tensorflow_core/_api/v2/random/experimental/__init__.py\n",
            "    /usr/local/lib/python3.6/dist-packages/tensorflow_core/_api/v2/raw_ops/__init__.py\n",
            "    /usr/local/lib/python3.6/dist-packages/tensorflow_core/_api/v2/saved_model/__init__.py\n",
            "    /usr/local/lib/python3.6/dist-packages/tensorflow_core/_api/v2/sets/__init__.py\n",
            "    /usr/local/lib/python3.6/dist-packages/tensorflow_core/_api/v2/signal/__init__.py\n",
            "    /usr/local/lib/python3.6/dist-packages/tensorflow_core/_api/v2/sparse/__init__.py\n",
            "    /usr/local/lib/python3.6/dist-packages/tensorflow_core/_api/v2/strings/__init__.py\n",
            "    /usr/local/lib/python3.6/dist-packages/tensorflow_core/_api/v2/summary/__init__.py\n",
            "    /usr/local/lib/python3.6/dist-packages/tensorflow_core/_api/v2/summary/experimental/__init__.py\n",
            "    /usr/local/lib/python3.6/dist-packages/tensorflow_core/_api/v2/sysconfig/__init__.py\n",
            "    /usr/local/lib/python3.6/dist-packages/tensorflow_core/_api/v2/test/__init__.py\n",
            "    /usr/local/lib/python3.6/dist-packages/tensorflow_core/_api/v2/tpu/__init__.py\n",
            "    /usr/local/lib/python3.6/dist-packages/tensorflow_core/_api/v2/tpu/experimental/__init__.py\n",
            "    /usr/local/lib/python3.6/dist-packages/tensorflow_core/_api/v2/train/__init__.py\n",
            "    /usr/local/lib/python3.6/dist-packages/tensorflow_core/_api/v2/train/experimental/__init__.py\n",
            "    /usr/local/lib/python3.6/dist-packages/tensorflow_core/_api/v2/v2.py\n",
            "    /usr/local/lib/python3.6/dist-packages/tensorflow_core/_api/v2/version/__init__.py\n",
            "    /usr/local/lib/python3.6/dist-packages/tensorflow_core/_api/v2/xla/__init__.py\n",
            "    /usr/local/lib/python3.6/dist-packages/tensorflow_core/_api/v2/xla/experimental/__init__.py\n",
            "    /usr/local/lib/python3.6/dist-packages/tensorflow_core/include/Eigen/src/Core/arch/GPU/Half.h\n",
            "    /usr/local/lib/python3.6/dist-packages/tensorflow_core/include/Eigen/src/Core/arch/GPU/PacketMathHalf.h\n",
            "    /usr/local/lib/python3.6/dist-packages/tensorflow_core/include/tensorflow/core/platform/default/thread_annotations.h\n",
            "    /usr/local/lib/python3.6/dist-packages/tensorflow_core/include/tensorflow/core/platform/windows/cpu_info.h\n",
            "    /usr/local/lib/python3.6/dist-packages/tensorflow_core/libtensorflow_framework.so.2\n",
            "    /usr/local/lib/python3.6/dist-packages/tensorflow_core/python/data/kernel_tests/filter_test_base.py\n",
            "    /usr/local/lib/python3.6/dist-packages/tensorflow_core/python/keras/mixed_precision/experimental/loss_scale.py\n",
            "    /usr/local/lib/python3.6/dist-packages/tensorflow_core/python/keras/saving/saved_model/base_serialization.py\n",
            "    /usr/local/lib/python3.6/dist-packages/tensorflow_core/python/keras/saving/saved_model/layer_serialization.py\n",
            "    /usr/local/lib/python3.6/dist-packages/tensorflow_core/python/keras/saving/saved_model/model_serialization.py\n",
            "    /usr/local/lib/python3.6/dist-packages/tensorflow_core/python/keras/saving/saved_model/network_serialization.py\n",
            "    /usr/local/lib/python3.6/dist-packages/tensorflow_core/python/keras/saving/saved_model/save_impl.py\n",
            "    /usr/local/lib/python3.6/dist-packages/tensorflow_core/python/saved_model/save_options.py\n",
            "Proceed (y/n)? y\n",
            "  Successfully uninstalled tensorflow-1.15.0\n"
          ],
          "name": "stdout"
        }
      ]
    },
    {
      "cell_type": "code",
      "metadata": {
        "id": "yg4g9E4dqLhG",
        "colab_type": "code",
        "colab": {
          "base_uri": "https://localhost:8080/",
          "height": 615
        },
        "outputId": "8fb78659-397a-472b-9670-246cd086771c"
      },
      "source": [
        "!pip install tensorflow-gpu==2.0.0\n"
      ],
      "execution_count": 6,
      "outputs": [
        {
          "output_type": "stream",
          "text": [
            "Requirement already satisfied: tensorflow-gpu==2.0.0 in /usr/local/lib/python3.6/dist-packages (2.0.0)\n",
            "Requirement already satisfied: termcolor>=1.1.0 in /usr/local/lib/python3.6/dist-packages (from tensorflow-gpu==2.0.0) (1.1.0)\n",
            "Requirement already satisfied: gast==0.2.2 in /usr/local/lib/python3.6/dist-packages (from tensorflow-gpu==2.0.0) (0.2.2)\n",
            "Requirement already satisfied: keras-applications>=1.0.8 in /usr/local/lib/python3.6/dist-packages (from tensorflow-gpu==2.0.0) (1.0.8)\n",
            "Requirement already satisfied: tensorboard<2.1.0,>=2.0.0 in /usr/local/lib/python3.6/dist-packages (from tensorflow-gpu==2.0.0) (2.0.2)\n",
            "Requirement already satisfied: keras-preprocessing>=1.0.5 in /usr/local/lib/python3.6/dist-packages (from tensorflow-gpu==2.0.0) (1.1.0)\n",
            "Requirement already satisfied: six>=1.10.0 in /usr/local/lib/python3.6/dist-packages (from tensorflow-gpu==2.0.0) (1.12.0)\n",
            "Requirement already satisfied: tensorflow-estimator<2.1.0,>=2.0.0 in /usr/local/lib/python3.6/dist-packages (from tensorflow-gpu==2.0.0) (2.0.1)\n",
            "Requirement already satisfied: wheel>=0.26 in /usr/local/lib/python3.6/dist-packages (from tensorflow-gpu==2.0.0) (0.34.2)\n",
            "Requirement already satisfied: protobuf>=3.6.1 in /usr/local/lib/python3.6/dist-packages (from tensorflow-gpu==2.0.0) (3.10.0)\n",
            "Requirement already satisfied: grpcio>=1.8.6 in /usr/local/lib/python3.6/dist-packages (from tensorflow-gpu==2.0.0) (1.27.1)\n",
            "Requirement already satisfied: astor>=0.6.0 in /usr/local/lib/python3.6/dist-packages (from tensorflow-gpu==2.0.0) (0.8.1)\n",
            "Requirement already satisfied: absl-py>=0.7.0 in /usr/local/lib/python3.6/dist-packages (from tensorflow-gpu==2.0.0) (0.9.0)\n",
            "Requirement already satisfied: opt-einsum>=2.3.2 in /usr/local/lib/python3.6/dist-packages (from tensorflow-gpu==2.0.0) (3.1.0)\n",
            "Requirement already satisfied: google-pasta>=0.1.6 in /usr/local/lib/python3.6/dist-packages (from tensorflow-gpu==2.0.0) (0.1.8)\n",
            "Requirement already satisfied: numpy<2.0,>=1.16.0 in /usr/local/lib/python3.6/dist-packages (from tensorflow-gpu==2.0.0) (1.17.5)\n",
            "Requirement already satisfied: wrapt>=1.11.1 in /usr/local/lib/python3.6/dist-packages (from tensorflow-gpu==2.0.0) (1.11.2)\n",
            "Requirement already satisfied: h5py in /usr/local/lib/python3.6/dist-packages (from keras-applications>=1.0.8->tensorflow-gpu==2.0.0) (2.8.0)\n",
            "Requirement already satisfied: setuptools>=41.0.0 in /usr/local/lib/python3.6/dist-packages (from tensorboard<2.1.0,>=2.0.0->tensorflow-gpu==2.0.0) (45.1.0)\n",
            "Requirement already satisfied: werkzeug>=0.11.15 in /usr/local/lib/python3.6/dist-packages (from tensorboard<2.1.0,>=2.0.0->tensorflow-gpu==2.0.0) (1.0.0)\n",
            "Requirement already satisfied: requests<3,>=2.21.0 in /usr/local/lib/python3.6/dist-packages (from tensorboard<2.1.0,>=2.0.0->tensorflow-gpu==2.0.0) (2.21.0)\n",
            "Requirement already satisfied: google-auth-oauthlib<0.5,>=0.4.1 in /usr/local/lib/python3.6/dist-packages (from tensorboard<2.1.0,>=2.0.0->tensorflow-gpu==2.0.0) (0.4.1)\n",
            "Requirement already satisfied: markdown>=2.6.8 in /usr/local/lib/python3.6/dist-packages (from tensorboard<2.1.0,>=2.0.0->tensorflow-gpu==2.0.0) (3.2)\n",
            "Requirement already satisfied: google-auth<2,>=1.6.3 in /usr/local/lib/python3.6/dist-packages (from tensorboard<2.1.0,>=2.0.0->tensorflow-gpu==2.0.0) (1.11.1)\n",
            "Requirement already satisfied: idna<2.9,>=2.5 in /usr/local/lib/python3.6/dist-packages (from requests<3,>=2.21.0->tensorboard<2.1.0,>=2.0.0->tensorflow-gpu==2.0.0) (2.8)\n",
            "Requirement already satisfied: certifi>=2017.4.17 in /usr/local/lib/python3.6/dist-packages (from requests<3,>=2.21.0->tensorboard<2.1.0,>=2.0.0->tensorflow-gpu==2.0.0) (2019.11.28)\n",
            "Requirement already satisfied: chardet<3.1.0,>=3.0.2 in /usr/local/lib/python3.6/dist-packages (from requests<3,>=2.21.0->tensorboard<2.1.0,>=2.0.0->tensorflow-gpu==2.0.0) (3.0.4)\n",
            "Requirement already satisfied: urllib3<1.25,>=1.21.1 in /usr/local/lib/python3.6/dist-packages (from requests<3,>=2.21.0->tensorboard<2.1.0,>=2.0.0->tensorflow-gpu==2.0.0) (1.24.3)\n",
            "Requirement already satisfied: requests-oauthlib>=0.7.0 in /usr/local/lib/python3.6/dist-packages (from google-auth-oauthlib<0.5,>=0.4.1->tensorboard<2.1.0,>=2.0.0->tensorflow-gpu==2.0.0) (1.3.0)\n",
            "Requirement already satisfied: rsa<4.1,>=3.1.4 in /usr/local/lib/python3.6/dist-packages (from google-auth<2,>=1.6.3->tensorboard<2.1.0,>=2.0.0->tensorflow-gpu==2.0.0) (4.0)\n",
            "Requirement already satisfied: pyasn1-modules>=0.2.1 in /usr/local/lib/python3.6/dist-packages (from google-auth<2,>=1.6.3->tensorboard<2.1.0,>=2.0.0->tensorflow-gpu==2.0.0) (0.2.8)\n",
            "Requirement already satisfied: cachetools<5.0,>=2.0.0 in /usr/local/lib/python3.6/dist-packages (from google-auth<2,>=1.6.3->tensorboard<2.1.0,>=2.0.0->tensorflow-gpu==2.0.0) (4.0.0)\n",
            "Requirement already satisfied: oauthlib>=3.0.0 in /usr/local/lib/python3.6/dist-packages (from requests-oauthlib>=0.7.0->google-auth-oauthlib<0.5,>=0.4.1->tensorboard<2.1.0,>=2.0.0->tensorflow-gpu==2.0.0) (3.1.0)\n",
            "Requirement already satisfied: pyasn1>=0.1.3 in /usr/local/lib/python3.6/dist-packages (from rsa<4.1,>=3.1.4->google-auth<2,>=1.6.3->tensorboard<2.1.0,>=2.0.0->tensorflow-gpu==2.0.0) (0.4.8)\n"
          ],
          "name": "stdout"
        }
      ]
    },
    {
      "cell_type": "code",
      "metadata": {
        "id": "Hv6SqAIhq8Od",
        "colab_type": "code",
        "colab": {
          "base_uri": "https://localhost:8080/",
          "height": 34
        },
        "outputId": "6a0b596b-c309-4971-c5ac-aa360853878c"
      },
      "source": [
        "import tensorflow as tf\n",
        "print(tf.__version__)\n",
        "\n",
        "\n",
        "\n",
        "\n"
      ],
      "execution_count": 7,
      "outputs": [
        {
          "output_type": "stream",
          "text": [
            "2.0.0\n"
          ],
          "name": "stdout"
        }
      ]
    },
    {
      "cell_type": "code",
      "metadata": {
        "id": "m0XwW282rW8l",
        "colab_type": "code",
        "colab": {}
      },
      "source": [
        "#Installing tensorflow hub, for transfer learning\n",
        "!pip install -q tensorflow-hub\n",
        "#Installing the tensorflow datasets\n",
        "!pip install -q tfds-nightly\n",
        "\n",
        "import tensorflow_hub as hub\n",
        "import tensorflow_datasets as tfds\n"
      ],
      "execution_count": 0,
      "outputs": []
    },
    {
      "cell_type": "code",
      "metadata": {
        "id": "w0uXZMm8seXo",
        "colab_type": "code",
        "colab": {
          "base_uri": "https://localhost:8080/",
          "height": 85
        },
        "outputId": "b7894367-dc3b-4032-de61-6490a063f12a"
      },
      "source": [
        "#check the versions of tensorflow, tensorflow_hub, check the eager_mode and also the availability of GPU in runtime\n",
        "print(\"Tensorflow Version : \",tf.__version__)\n",
        "print(\"Tensorflow Hub Version ==> \",hub.__version__)\n",
        "print(\"Eager Mode : \",tf.executing_eagerly())\n",
        "print(\"GPU is\", \"Available \" if tf.config.experimental.list_physical_devices(\"GPU\") else \" Not Available!\")"
      ],
      "execution_count": 9,
      "outputs": [
        {
          "output_type": "stream",
          "text": [
            "Tensorflow Version :  2.0.0\n",
            "Tensorflow Hub Version ==>  0.7.0\n",
            "Eager Mode :  True\n",
            "GPU is Available \n"
          ],
          "name": "stdout"
        }
      ]
    },
    {
      "cell_type": "code",
      "metadata": {
        "id": "rtwkqiMAtmpt",
        "colab_type": "code",
        "colab": {
          "base_uri": "https://localhost:8080/",
          "height": 1108
        },
        "outputId": "f04e73bb-e00d-4d82-ff3c-ae2368239394"
      },
      "source": [
        "# Downloading and splitting the IMDB dataset. Similar to the tensorflow tutorial, I use half of the dataset 25000, for training and  25000 for testing.\n",
        "# The dataset is Balance in the number of + and - comments\n",
        "#in the half fraction that I am going to use for training, I will use 15000 for training and 10000 for validation\n",
        "train_data, validation_data, test_data = tfds.load(name=\"imdb_reviews\",split=('train[:60%]', 'train[60%:]', 'test'),as_supervised= True)"
      ],
      "execution_count": 10,
      "outputs": [
        {
          "output_type": "stream",
          "text": [
            "WARNING:tensorflow:Entity <bound method TopLevelFeature.decode_example of FeaturesDict({\n",
            "    'label': ClassLabel(shape=(), dtype=tf.int64, num_classes=2),\n",
            "    'text': Text(shape=(), dtype=tf.string),\n",
            "})> could not be transformed and will be executed as-is. Please report this to the AutoGraph team. When filing the bug, set the verbosity to 10 (on Linux, `export AUTOGRAPH_VERBOSITY=10`) and attach the full output. Cause: Unable to locate the source code of <bound method TopLevelFeature.decode_example of FeaturesDict({\n",
            "    'label': ClassLabel(shape=(), dtype=tf.int64, num_classes=2),\n",
            "    'text': Text(shape=(), dtype=tf.string),\n",
            "})>. Note that functions defined in certain environments, like the interactive Python shell do not expose their source code. If that is the case, you should to define them in a .py source file. If you are certain the code is graph-compatible, wrap the call using @tf.autograph.do_not_convert. Original error: could not get source code\n"
          ],
          "name": "stdout"
        },
        {
          "output_type": "stream",
          "text": [
            "WARNING:tensorflow:Entity <bound method TopLevelFeature.decode_example of FeaturesDict({\n",
            "    'label': ClassLabel(shape=(), dtype=tf.int64, num_classes=2),\n",
            "    'text': Text(shape=(), dtype=tf.string),\n",
            "})> could not be transformed and will be executed as-is. Please report this to the AutoGraph team. When filing the bug, set the verbosity to 10 (on Linux, `export AUTOGRAPH_VERBOSITY=10`) and attach the full output. Cause: Unable to locate the source code of <bound method TopLevelFeature.decode_example of FeaturesDict({\n",
            "    'label': ClassLabel(shape=(), dtype=tf.int64, num_classes=2),\n",
            "    'text': Text(shape=(), dtype=tf.string),\n",
            "})>. Note that functions defined in certain environments, like the interactive Python shell do not expose their source code. If that is the case, you should to define them in a .py source file. If you are certain the code is graph-compatible, wrap the call using @tf.autograph.do_not_convert. Original error: could not get source code\n"
          ],
          "name": "stderr"
        },
        {
          "output_type": "stream",
          "text": [
            "WARNING: Entity <bound method TopLevelFeature.decode_example of FeaturesDict({\n",
            "    'label': ClassLabel(shape=(), dtype=tf.int64, num_classes=2),\n",
            "    'text': Text(shape=(), dtype=tf.string),\n",
            "})> could not be transformed and will be executed as-is. Please report this to the AutoGraph team. When filing the bug, set the verbosity to 10 (on Linux, `export AUTOGRAPH_VERBOSITY=10`) and attach the full output. Cause: Unable to locate the source code of <bound method TopLevelFeature.decode_example of FeaturesDict({\n",
            "    'label': ClassLabel(shape=(), dtype=tf.int64, num_classes=2),\n",
            "    'text': Text(shape=(), dtype=tf.string),\n",
            "})>. Note that functions defined in certain environments, like the interactive Python shell do not expose their source code. If that is the case, you should to define them in a .py source file. If you are certain the code is graph-compatible, wrap the call using @tf.autograph.do_not_convert. Original error: could not get source code\n",
            "WARNING:tensorflow:Entity <bound method TopLevelFeature.decode_example of FeaturesDict({\n",
            "    'label': ClassLabel(shape=(), dtype=tf.int64, num_classes=2),\n",
            "    'text': Text(shape=(), dtype=tf.string),\n",
            "})> could not be transformed and will be executed as-is. Please report this to the AutoGraph team. When filing the bug, set the verbosity to 10 (on Linux, `export AUTOGRAPH_VERBOSITY=10`) and attach the full output. Cause: Unable to locate the source code of <bound method TopLevelFeature.decode_example of FeaturesDict({\n",
            "    'label': ClassLabel(shape=(), dtype=tf.int64, num_classes=2),\n",
            "    'text': Text(shape=(), dtype=tf.string),\n",
            "})>. Note that functions defined in certain environments, like the interactive Python shell do not expose their source code. If that is the case, you should to define them in a .py source file. If you are certain the code is graph-compatible, wrap the call using @tf.autograph.do_not_convert. Original error: could not get source code\n"
          ],
          "name": "stdout"
        },
        {
          "output_type": "stream",
          "text": [
            "WARNING:tensorflow:Entity <bound method TopLevelFeature.decode_example of FeaturesDict({\n",
            "    'label': ClassLabel(shape=(), dtype=tf.int64, num_classes=2),\n",
            "    'text': Text(shape=(), dtype=tf.string),\n",
            "})> could not be transformed and will be executed as-is. Please report this to the AutoGraph team. When filing the bug, set the verbosity to 10 (on Linux, `export AUTOGRAPH_VERBOSITY=10`) and attach the full output. Cause: Unable to locate the source code of <bound method TopLevelFeature.decode_example of FeaturesDict({\n",
            "    'label': ClassLabel(shape=(), dtype=tf.int64, num_classes=2),\n",
            "    'text': Text(shape=(), dtype=tf.string),\n",
            "})>. Note that functions defined in certain environments, like the interactive Python shell do not expose their source code. If that is the case, you should to define them in a .py source file. If you are certain the code is graph-compatible, wrap the call using @tf.autograph.do_not_convert. Original error: could not get source code\n"
          ],
          "name": "stderr"
        },
        {
          "output_type": "stream",
          "text": [
            "WARNING: Entity <bound method TopLevelFeature.decode_example of FeaturesDict({\n",
            "    'label': ClassLabel(shape=(), dtype=tf.int64, num_classes=2),\n",
            "    'text': Text(shape=(), dtype=tf.string),\n",
            "})> could not be transformed and will be executed as-is. Please report this to the AutoGraph team. When filing the bug, set the verbosity to 10 (on Linux, `export AUTOGRAPH_VERBOSITY=10`) and attach the full output. Cause: Unable to locate the source code of <bound method TopLevelFeature.decode_example of FeaturesDict({\n",
            "    'label': ClassLabel(shape=(), dtype=tf.int64, num_classes=2),\n",
            "    'text': Text(shape=(), dtype=tf.string),\n",
            "})>. Note that functions defined in certain environments, like the interactive Python shell do not expose their source code. If that is the case, you should to define them in a .py source file. If you are certain the code is graph-compatible, wrap the call using @tf.autograph.do_not_convert. Original error: could not get source code\n",
            "WARNING:tensorflow:Entity <bound method TopLevelFeature.decode_example of FeaturesDict({\n",
            "    'label': ClassLabel(shape=(), dtype=tf.int64, num_classes=2),\n",
            "    'text': Text(shape=(), dtype=tf.string),\n",
            "})> could not be transformed and will be executed as-is. Please report this to the AutoGraph team. When filing the bug, set the verbosity to 10 (on Linux, `export AUTOGRAPH_VERBOSITY=10`) and attach the full output. Cause: Unable to locate the source code of <bound method TopLevelFeature.decode_example of FeaturesDict({\n",
            "    'label': ClassLabel(shape=(), dtype=tf.int64, num_classes=2),\n",
            "    'text': Text(shape=(), dtype=tf.string),\n",
            "})>. Note that functions defined in certain environments, like the interactive Python shell do not expose their source code. If that is the case, you should to define them in a .py source file. If you are certain the code is graph-compatible, wrap the call using @tf.autograph.do_not_convert. Original error: could not get source code\n"
          ],
          "name": "stdout"
        },
        {
          "output_type": "stream",
          "text": [
            "WARNING:tensorflow:Entity <bound method TopLevelFeature.decode_example of FeaturesDict({\n",
            "    'label': ClassLabel(shape=(), dtype=tf.int64, num_classes=2),\n",
            "    'text': Text(shape=(), dtype=tf.string),\n",
            "})> could not be transformed and will be executed as-is. Please report this to the AutoGraph team. When filing the bug, set the verbosity to 10 (on Linux, `export AUTOGRAPH_VERBOSITY=10`) and attach the full output. Cause: Unable to locate the source code of <bound method TopLevelFeature.decode_example of FeaturesDict({\n",
            "    'label': ClassLabel(shape=(), dtype=tf.int64, num_classes=2),\n",
            "    'text': Text(shape=(), dtype=tf.string),\n",
            "})>. Note that functions defined in certain environments, like the interactive Python shell do not expose their source code. If that is the case, you should to define them in a .py source file. If you are certain the code is graph-compatible, wrap the call using @tf.autograph.do_not_convert. Original error: could not get source code\n"
          ],
          "name": "stderr"
        },
        {
          "output_type": "stream",
          "text": [
            "WARNING: Entity <bound method TopLevelFeature.decode_example of FeaturesDict({\n",
            "    'label': ClassLabel(shape=(), dtype=tf.int64, num_classes=2),\n",
            "    'text': Text(shape=(), dtype=tf.string),\n",
            "})> could not be transformed and will be executed as-is. Please report this to the AutoGraph team. When filing the bug, set the verbosity to 10 (on Linux, `export AUTOGRAPH_VERBOSITY=10`) and attach the full output. Cause: Unable to locate the source code of <bound method TopLevelFeature.decode_example of FeaturesDict({\n",
            "    'label': ClassLabel(shape=(), dtype=tf.int64, num_classes=2),\n",
            "    'text': Text(shape=(), dtype=tf.string),\n",
            "})>. Note that functions defined in certain environments, like the interactive Python shell do not expose their source code. If that is the case, you should to define them in a .py source file. If you are certain the code is graph-compatible, wrap the call using @tf.autograph.do_not_convert. Original error: could not get source code\n"
          ],
          "name": "stdout"
        }
      ]
    },
    {
      "cell_type": "code",
      "metadata": {
        "id": "7x1csHrJwnKJ",
        "colab_type": "code",
        "colab": {
          "base_uri": "https://localhost:8080/",
          "height": 547
        },
        "outputId": "bcfe14cb-0b5e-40a3-f720-f62159dc2ae7"
      },
      "source": [
        "# Now Take a look at some of the data points + labels that we have\n",
        "train_examples_batch, train_labels_batch = next(iter(train_data.batch(10)))\n",
        "for comment in train_examples_batch:\n",
        "  print(comment)\n",
        "  print(train_labels_batch[list(train_examples_batch).index(comment)])\n",
        "  print(\"################################\")\n"
      ],
      "execution_count": 11,
      "outputs": [
        {
          "output_type": "stream",
          "text": [
            "tf.Tensor(b\"This was an absolutely terrible movie. Don't be lured in by Christopher Walken or Michael Ironside. Both are great actors, but this must simply be their worst role in history. Even their great acting could not redeem this movie's ridiculous storyline. This movie is an early nineties US propaganda piece. The most pathetic scenes were those when the Columbian rebels were making their cases for revolutions. Maria Conchita Alonso appeared phony, and her pseudo-love affair with Walken was nothing but a pathetic emotional plug in a movie that was devoid of any real meaning. I am disappointed that there are movies like this, ruining actor's like Christopher Walken's good name. I could barely sit through it.\", shape=(), dtype=string)\n",
            "tf.Tensor(0, shape=(), dtype=int64)\n",
            "################################\n",
            "tf.Tensor(b'I have been known to fall asleep during films, but this is usually due to a combination of things including, really tired, being warm and comfortable on the sette and having just eaten a lot. However on this occasion I fell asleep because the film was rubbish. The plot development was constant. Constantly slow and boring. Things seemed to happen, but with no explanation of what was causing them or why. I admit, I may have missed part of the film, but i watched the majority of it and everything just seemed to happen of its own accord without any real concern for anything else. I cant recommend this film at all.', shape=(), dtype=string)\n",
            "tf.Tensor(0, shape=(), dtype=int64)\n",
            "################################\n",
            "tf.Tensor(b'Mann photographs the Alberta Rocky Mountains in a superb fashion, and Jimmy Stewart and Walter Brennan give enjoyable performances as they always seem to do. <br /><br />But come on Hollywood - a Mountie telling the people of Dawson City, Yukon to elect themselves a marshal (yes a marshal!) and to enforce the law themselves, then gunfighters battling it out on the streets for control of the town? <br /><br />Nothing even remotely resembling that happened on the Canadian side of the border during the Klondike gold rush. Mr. Mann and company appear to have mistaken Dawson City for Deadwood, the Canadian North for the American Wild West.<br /><br />Canadian viewers be prepared for a Reefer Madness type of enjoyable howl with this ludicrous plot, or, to shake your head in disgust.', shape=(), dtype=string)\n",
            "tf.Tensor(0, shape=(), dtype=int64)\n",
            "################################\n",
            "tf.Tensor(b'This is the kind of film for a snowy Sunday afternoon when the rest of the world can go ahead with its own business as you descend into a big arm-chair and mellow for a couple of hours. Wonderful performances from Cher and Nicolas Cage (as always) gently row the plot along. There are no rapids to cross, no dangerous waters, just a warm and witty paddle through New York life at its best. A family film in every sense and one that deserves the praise it received.', shape=(), dtype=string)\n",
            "tf.Tensor(1, shape=(), dtype=int64)\n",
            "################################\n",
            "tf.Tensor(b'As others have mentioned, all the women that go nude in this film are mostly absolutely gorgeous. The plot very ably shows the hypocrisy of the female libido. When men are around they want to be pursued, but when no \"men\" are around, they become the pursuers of a 14 year old boy. And the boy becomes a man really fast (we should all be so lucky at this age!). He then gets up the courage to pursue his true love.', shape=(), dtype=string)\n",
            "tf.Tensor(1, shape=(), dtype=int64)\n",
            "################################\n",
            "tf.Tensor(b\"This is a film which should be seen by anybody interested in, effected by, or suffering from an eating disorder. It is an amazingly accurate and sensitive portrayal of bulimia in a teenage girl, its causes and its symptoms. The girl is played by one of the most brilliant young actresses working in cinema today, Alison Lohman, who was later so spectacular in 'Where the Truth Lies'. I would recommend that this film be shown in all schools, as you will never see a better on this subject. Alison Lohman is absolutely outstanding, and one marvels at her ability to convey the anguish of a girl suffering from this compulsive disorder. If barometers tell us the air pressure, Alison Lohman tells us the emotional pressure with the same degree of accuracy. Her emotional range is so precise, each scene could be measured microscopically for its gradations of trauma, on a scale of rising hysteria and desperation which reaches unbearable intensity. Mare Winningham is the perfect choice to play her mother, and does so with immense sympathy and a range of emotions just as finely tuned as Lohman's. Together, they make a pair of sensitive emotional oscillators vibrating in resonance with one another. This film is really an astonishing achievement, and director Katt Shea should be proud of it. The only reason for not seeing it is if you are not interested in people. But even if you like nature films best, this is after all animal behaviour at the sharp edge. Bulimia is an extreme version of how a tormented soul can destroy her own body in a frenzy of despair. And if we don't sympathise with people suffering from the depths of despair, then we are dead inside.\", shape=(), dtype=string)\n",
            "tf.Tensor(1, shape=(), dtype=int64)\n",
            "################################\n",
            "tf.Tensor(b'Okay, you have:<br /><br />Penelope Keith as Miss Herringbone-Tweed, B.B.E. (Backbone of England.) She\\'s killed off in the first scene - that\\'s right, folks; this show has no backbone!<br /><br />Peter O\\'Toole as Ol\\' Colonel Cricket from The First War and now the emblazered Lord of the Manor.<br /><br />Joanna Lumley as the ensweatered Lady of the Manor, 20 years younger than the colonel and 20 years past her own prime but still glamourous (Brit spelling, not mine) enough to have a toy-boy on the side. It\\'s alright, they have Col. Cricket\\'s full knowledge and consent (they guy even comes \\'round for Christmas!) Still, she\\'s considerate of the colonel enough to have said toy-boy her own age (what a gal!)<br /><br />David McCallum as said toy-boy, equally as pointlessly glamourous as his squeeze. Pilcher couldn\\'t come up with any cover for him within the story, so she gave him a hush-hush job at the Circus.<br /><br />and finally:<br /><br />Susan Hampshire as Miss Polonia Teacups, Venerable Headmistress of the Venerable Girls\\' Boarding-School, serving tea in her office with a dash of deep, poignant advice for life in the outside world just before graduation. Her best bit of advice: \"I\\'ve only been to Nancherrow (the local Stately Home of England) once. I thought it was very beautiful but, somehow, not part of the real world.\" Well, we can\\'t say they didn\\'t warn us.<br /><br />Ah, Susan - time was, your character would have been running the whole show. They don\\'t write \\'em like that any more. Our loss, not yours.<br /><br />So - with a cast and setting like this, you have the re-makings of \"Brideshead Revisited,\" right?<br /><br />Wrong! They took these 1-dimensional supporting roles because they paid so well. After all, acting is one of the oldest temp-jobs there is (YOU name another!)<br /><br />First warning sign: lots and lots of backlighting. They get around it by shooting outdoors - \"hey, it\\'s just the sunlight!\"<br /><br />Second warning sign: Leading Lady cries a lot. When not crying, her eyes are moist. That\\'s the law of romance novels: Leading Lady is \"dewy-eyed.\"<br /><br />Henceforth, Leading Lady shall be known as L.L.<br /><br />Third warning sign: L.L. actually has stars in her eyes when she\\'s in love. Still, I\\'ll give Emily Mortimer an award just for having to act with that spotlight in her eyes (I wonder . did they use contacts?)<br /><br />And lastly, fourth warning sign: no on-screen female character is \"Mrs.\" She\\'s either \"Miss\" or \"Lady.\"<br /><br />When all was said and done, I still couldn\\'t tell you who was pursuing whom and why. I couldn\\'t even tell you what was said and done.<br /><br />To sum up: they all live through World War II without anything happening to them at all.<br /><br />OK, at the end, L.L. finds she\\'s lost her parents to the Japanese prison camps and baby sis comes home catatonic. Meanwhile (there\\'s always a \"meanwhile,\") some young guy L.L. had a crush on (when, I don\\'t know) comes home from some wartime tough spot and is found living on the street by Lady of the Manor (must be some street if SHE\\'s going to find him there.) Both war casualties are whisked away to recover at Nancherrow (SOMEBODY has to be \"whisked away\" SOMEWHERE in these romance stories!)<br /><br />Great drama.', shape=(), dtype=string)\n",
            "tf.Tensor(0, shape=(), dtype=int64)\n",
            "################################\n",
            "tf.Tensor(b'The film is based on a genuine 1950s novel.<br /><br />Journalist Colin McInnes wrote a set of three \"London novels\": \"Absolute Beginners\", \"City of Spades\" and \"Mr Love and Justice\". I have read all three. The first two are excellent. The last, perhaps an experiment that did not come off. But McInnes\\'s work is highly acclaimed; and rightly so. This musical is the novelist\\'s ultimate nightmare - to see the fruits of one\\'s mind being turned into a glitzy, badly-acted, soporific one-dimensional apology of a film that says it captures the spirit of 1950s London, and does nothing of the sort.<br /><br />Thank goodness Colin McInnes wasn\\'t alive to witness it.', shape=(), dtype=string)\n",
            "tf.Tensor(0, shape=(), dtype=int64)\n",
            "################################\n",
            "tf.Tensor(b'I really love the sexy action and sci-fi films of the sixties and its because of the actress\\'s that appeared in them. They found the sexiest women to be in these films and it didn\\'t matter if they could act (Remember \"Candy\"?). The reason I was disappointed by this film was because it wasn\\'t nostalgic enough. The story here has a European sci-fi film called \"Dragonfly\" being made and the director is fired. So the producers decide to let a young aspiring filmmaker (Jeremy Davies) to complete the picture. They\\'re is one real beautiful woman in the film who plays Dragonfly but she\\'s barely in it. Film is written and directed by Roman Coppola who uses some of his fathers exploits from his early days and puts it into the script. I wish the film could have been an homage to those early films. They could have lots of cameos by actors who appeared in them. There is one actor in this film who was popular from the sixties and its John Phillip Law (Barbarella). Gerard Depardieu, Giancarlo Giannini and Dean Stockwell appear as well. I guess I\\'m going to have to continue waiting for a director to make a good homage to the films of the sixties. If any are reading this, \"Make it as sexy as you can\"! I\\'ll be waiting!', shape=(), dtype=string)\n",
            "tf.Tensor(0, shape=(), dtype=int64)\n",
            "################################\n",
            "tf.Tensor(b'Sure, this one isn\\'t really a blockbuster, nor does it target such a position. \"Dieter\" is the first name of a quite popular German musician, who is either loved or hated for his kind of acting and thats exactly what this movie is about. It is based on the autobiography \"Dieter Bohlen\" wrote a few years ago but isn\\'t meant to be accurate on that. The movie is filled with some sexual offensive content (at least for American standard) which is either amusing (not for the other \"actors\" of course) or dumb - it depends on your individual kind of humor or on you being a \"Bohlen\"-Fan or not. Technically speaking there isn\\'t much to criticize. Speaking of me I find this movie to be an OK-movie.', shape=(), dtype=string)\n",
            "tf.Tensor(0, shape=(), dtype=int64)\n",
            "################################\n"
          ],
          "name": "stdout"
        }
      ]
    },
    {
      "cell_type": "code",
      "metadata": {
        "id": "WMGftcb9yoGb",
        "colab_type": "code",
        "colab": {
          "base_uri": "https://localhost:8080/",
          "height": 255
        },
        "outputId": "f2886a77-3ece-448f-96bd-d14983ace5ef"
      },
      "source": [
        "# Now its time to fed the imput to our model. For this case, we will use pre-trained embedding in Tensorflow hub\n",
        "embedding = \"https://tfhub.dev/google/tf2-preview/gnews-swivel-20dim/1\"\n",
        "hub_layer = hub.KerasLayer(embedding,input_shape=[],dtype =tf.string,trainable = True)\n",
        "hub_layer(train_examples_batch[:3])"
      ],
      "execution_count": 15,
      "outputs": [
        {
          "output_type": "execute_result",
          "data": {
            "text/plain": [
              "<tf.Tensor: id=1117, shape=(3, 20), dtype=float32, numpy=\n",
              "array([[ 1.765786  , -3.882232  ,  3.9134233 , -1.5557289 , -3.3362343 ,\n",
              "        -1.7357955 , -1.9954445 ,  1.2989551 ,  5.081598  , -1.1041286 ,\n",
              "        -2.0503852 , -0.72675157, -0.65675956,  0.24436149, -3.7208383 ,\n",
              "         2.0954835 ,  2.2969332 , -2.0689783 , -2.9489717 , -1.1315987 ],\n",
              "       [ 1.8804485 , -2.5852382 ,  3.4066997 ,  1.0982676 , -4.056685  ,\n",
              "        -4.891284  , -2.785554  ,  1.3874227 ,  3.8476458 , -0.9256538 ,\n",
              "        -1.896706  ,  1.2113281 ,  0.11474707,  0.76209456, -4.8791065 ,\n",
              "         2.906149  ,  4.7087674 , -2.3652055 , -3.5015898 , -1.6390051 ],\n",
              "       [ 0.71152234, -0.6353217 ,  1.7385626 , -1.1168286 , -0.5451594 ,\n",
              "        -1.1808156 ,  0.09504455,  1.4653089 ,  0.66059524,  0.79308075,\n",
              "        -2.2268345 ,  0.07446612, -1.4075904 , -0.70645386, -1.907037  ,\n",
              "         1.4419787 ,  1.9551861 , -0.42660055, -2.8022065 ,  0.43727064]],\n",
              "      dtype=float32)>"
            ]
          },
          "metadata": {
            "tags": []
          },
          "execution_count": 15
        }
      ]
    },
    {
      "cell_type": "code",
      "metadata": {
        "id": "ZsaB_c1w2YwT",
        "colab_type": "code",
        "colab": {}
      },
      "source": [
        "# Building the model\n",
        "\n",
        "model =tf.keras.Sequential()\n",
        "model.add(hub_layer)\n",
        "model.add(tf.keras.layers.Dense(16,activation =\"relu\"))\n",
        "model.add(tf.keras.layers.Dense(1))"
      ],
      "execution_count": 0,
      "outputs": []
    },
    {
      "cell_type": "code",
      "metadata": {
        "id": "zpi2gTXJ4PHL",
        "colab_type": "code",
        "colab": {
          "base_uri": "https://localhost:8080/",
          "height": 255
        },
        "outputId": "1eb782be-72de-4115-e57d-dfbd506f675a"
      },
      "source": [
        "model.summary()"
      ],
      "execution_count": 19,
      "outputs": [
        {
          "output_type": "stream",
          "text": [
            "Model: \"sequential_4\"\n",
            "_________________________________________________________________\n",
            "Layer (type)                 Output Shape              Param #   \n",
            "=================================================================\n",
            "keras_layer_1 (KerasLayer)   (None, 20)                400020    \n",
            "_________________________________________________________________\n",
            "dense (Dense)                (None, 16)                336       \n",
            "_________________________________________________________________\n",
            "dense_1 (Dense)              (None, 1)                 17        \n",
            "=================================================================\n",
            "Total params: 400,373\n",
            "Trainable params: 400,373\n",
            "Non-trainable params: 0\n",
            "_________________________________________________________________\n"
          ],
          "name": "stdout"
        }
      ]
    },
    {
      "cell_type": "code",
      "metadata": {
        "id": "-QmhfyMV5Kt-",
        "colab_type": "code",
        "colab": {}
      },
      "source": [
        "#loss function and the optimizer\n",
        "model.compile(optimizer=\"adam\",loss = tf.keras.losses.BinaryCrossentropy(from_logits= True),metrics=[\"accuracy\"])"
      ],
      "execution_count": 0,
      "outputs": []
    },
    {
      "cell_type": "code",
      "metadata": {
        "id": "X3V2LQy16ZIG",
        "colab_type": "code",
        "colab": {
          "base_uri": "https://localhost:8080/",
          "height": 768
        },
        "outputId": "fb93819d-b444-4421-8e95-1c6f335c6b68"
      },
      "source": [
        "#Time to train the model\n",
        "history = model.fit(train_data.shuffle(10000).batch(512),epochs=20,validation_data= validation_data.batch(512),verbose=1)"
      ],
      "execution_count": 22,
      "outputs": [
        {
          "output_type": "stream",
          "text": [
            "Epoch 1/20\n",
            "WARNING:tensorflow:Entity <function Function._initialize_uninitialized_variables.<locals>.initialize_variables at 0x7fc9de3b8ea0> could not be transformed and will be executed as-is. Please report this to the AutoGraph team. When filing the bug, set the verbosity to 10 (on Linux, `export AUTOGRAPH_VERBOSITY=10`) and attach the full output. Cause: Unable to locate the source code of <function Function._initialize_uninitialized_variables.<locals>.initialize_variables at 0x7fc9de3b8ea0>. Note that functions defined in certain environments, like the interactive Python shell do not expose their source code. If that is the case, you should to define them in a .py source file. If you are certain the code is graph-compatible, wrap the call using @tf.autograph.do_not_convert. Original error: could not get source code\n"
          ],
          "name": "stdout"
        },
        {
          "output_type": "stream",
          "text": [
            "WARNING:tensorflow:Entity <function Function._initialize_uninitialized_variables.<locals>.initialize_variables at 0x7fc9de3b8ea0> could not be transformed and will be executed as-is. Please report this to the AutoGraph team. When filing the bug, set the verbosity to 10 (on Linux, `export AUTOGRAPH_VERBOSITY=10`) and attach the full output. Cause: Unable to locate the source code of <function Function._initialize_uninitialized_variables.<locals>.initialize_variables at 0x7fc9de3b8ea0>. Note that functions defined in certain environments, like the interactive Python shell do not expose their source code. If that is the case, you should to define them in a .py source file. If you are certain the code is graph-compatible, wrap the call using @tf.autograph.do_not_convert. Original error: could not get source code\n"
          ],
          "name": "stderr"
        },
        {
          "output_type": "stream",
          "text": [
            "WARNING: Entity <function Function._initialize_uninitialized_variables.<locals>.initialize_variables at 0x7fc9de3b8ea0> could not be transformed and will be executed as-is. Please report this to the AutoGraph team. When filing the bug, set the verbosity to 10 (on Linux, `export AUTOGRAPH_VERBOSITY=10`) and attach the full output. Cause: Unable to locate the source code of <function Function._initialize_uninitialized_variables.<locals>.initialize_variables at 0x7fc9de3b8ea0>. Note that functions defined in certain environments, like the interactive Python shell do not expose their source code. If that is the case, you should to define them in a .py source file. If you are certain the code is graph-compatible, wrap the call using @tf.autograph.do_not_convert. Original error: could not get source code\n",
            "30/30 [==============================] - 6s 213ms/step - loss: 0.6870 - accuracy: 0.5705 - val_loss: 0.0000e+00 - val_accuracy: 0.0000e+00\n",
            "Epoch 2/20\n",
            "30/30 [==============================] - 4s 149ms/step - loss: 0.6232 - accuracy: 0.6191 - val_loss: 0.5971 - val_accuracy: 0.6626\n",
            "Epoch 3/20\n",
            "30/30 [==============================] - 5s 153ms/step - loss: 0.5751 - accuracy: 0.6785 - val_loss: 0.5551 - val_accuracy: 0.7063\n",
            "Epoch 4/20\n",
            "30/30 [==============================] - 5s 160ms/step - loss: 0.5292 - accuracy: 0.7197 - val_loss: 0.5149 - val_accuracy: 0.7335\n",
            "Epoch 5/20\n",
            "30/30 [==============================] - 5s 150ms/step - loss: 0.4815 - accuracy: 0.7555 - val_loss: 0.4780 - val_accuracy: 0.7702\n",
            "Epoch 6/20\n",
            "30/30 [==============================] - 4s 150ms/step - loss: 0.4446 - accuracy: 0.7874 - val_loss: 0.4444 - val_accuracy: 0.7864\n",
            "Epoch 7/20\n",
            "30/30 [==============================] - 5s 164ms/step - loss: 0.4017 - accuracy: 0.8115 - val_loss: 0.4172 - val_accuracy: 0.8074\n",
            "Epoch 8/20\n",
            "30/30 [==============================] - 5s 158ms/step - loss: 0.3720 - accuracy: 0.8325 - val_loss: 0.3944 - val_accuracy: 0.8239\n",
            "Epoch 9/20\n",
            "30/30 [==============================] - 5s 162ms/step - loss: 0.3375 - accuracy: 0.8495 - val_loss: 0.3734 - val_accuracy: 0.8267\n",
            "Epoch 10/20\n",
            "30/30 [==============================] - 4s 149ms/step - loss: 0.3140 - accuracy: 0.8655 - val_loss: 0.3578 - val_accuracy: 0.8368\n",
            "Epoch 11/20\n",
            "30/30 [==============================] - 5s 160ms/step - loss: 0.2896 - accuracy: 0.8765 - val_loss: 0.3453 - val_accuracy: 0.8469\n",
            "Epoch 12/20\n",
            "30/30 [==============================] - 5s 156ms/step - loss: 0.2651 - accuracy: 0.8892 - val_loss: 0.3361 - val_accuracy: 0.8534\n",
            "Epoch 13/20\n",
            "30/30 [==============================] - 5s 153ms/step - loss: 0.2443 - accuracy: 0.9007 - val_loss: 0.3264 - val_accuracy: 0.8561\n",
            "Epoch 14/20\n",
            "30/30 [==============================] - 5s 150ms/step - loss: 0.2244 - accuracy: 0.9103 - val_loss: 0.3197 - val_accuracy: 0.8564\n",
            "Epoch 15/20\n",
            "30/30 [==============================] - 5s 151ms/step - loss: 0.2066 - accuracy: 0.9193 - val_loss: 0.3180 - val_accuracy: 0.8547\n",
            "Epoch 16/20\n",
            "30/30 [==============================] - 4s 144ms/step - loss: 0.1924 - accuracy: 0.9267 - val_loss: 0.3130 - val_accuracy: 0.8632\n",
            "Epoch 17/20\n",
            "30/30 [==============================] - 5s 151ms/step - loss: 0.1795 - accuracy: 0.9343 - val_loss: 0.3114 - val_accuracy: 0.8638\n",
            "Epoch 18/20\n",
            "30/30 [==============================] - 5s 156ms/step - loss: 0.1700 - accuracy: 0.9397 - val_loss: 0.3107 - val_accuracy: 0.8661\n",
            "Epoch 19/20\n",
            "30/30 [==============================] - 5s 159ms/step - loss: 0.1554 - accuracy: 0.9439 - val_loss: 0.3122 - val_accuracy: 0.8659\n",
            "Epoch 20/20\n",
            "30/30 [==============================] - 5s 159ms/step - loss: 0.1474 - accuracy: 0.9470 - val_loss: 0.3127 - val_accuracy: 0.8678\n"
          ],
          "name": "stdout"
        }
      ]
    },
    {
      "cell_type": "code",
      "metadata": {
        "id": "5P51Ag_K7S64",
        "colab_type": "code",
        "colab": {
          "base_uri": "https://localhost:8080/",
          "height": 68
        },
        "outputId": "1a5179ef-255c-43df-d5b0-671638077207"
      },
      "source": [
        "#Time to tset  our model\n",
        "results = model.evaluate(test_data.batch(512),verbose=2)\n",
        "for name, value in zip(model.metrics_names,results):\n",
        "  print(\"%s ===> %.3f\"%(name,value))"
      ],
      "execution_count": 24,
      "outputs": [
        {
          "output_type": "stream",
          "text": [
            "49/49 - 4s - loss: 0.3311 - accuracy: 0.8565\n",
            "loss ===> 0.331\n",
            "accuracy ===> 0.856\n"
          ],
          "name": "stdout"
        }
      ]
    }
  ]
}